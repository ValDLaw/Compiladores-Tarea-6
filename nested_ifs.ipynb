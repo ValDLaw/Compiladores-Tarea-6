{
  "cells": [
    {
      "cell_type": "code",
      "execution_count": null,
      "metadata": {
        "colab": {
          "base_uri": "https://localhost:8080/"
        },
        "id": "KcmOdOnXbfgI",
        "outputId": "584261dd-8d20-4120-9899-e1789e5c6677"
      },
      "outputs": [
        {
          "name": "stdout",
          "output_type": "stream",
          "text": [
            "Reading package lists... Done\n",
            "Building dependency tree       \n",
            "Reading state information... Done\n",
            "The following additional packages will be installed:\n",
            "  libfl-dev libfl2\n",
            "Suggested packages:\n",
            "  bison flex-doc\n",
            "The following NEW packages will be installed:\n",
            "  flex libfl-dev libfl2\n",
            "0 upgraded, 3 newly installed, 0 to remove and 15 not upgraded.\n",
            "Need to get 334 kB of archives.\n",
            "After this operation, 1,127 kB of additional disk space will be used.\n",
            "Get:1 http://archive.ubuntu.com/ubuntu focal/main amd64 flex amd64 2.6.4-6.2 [317 kB]\n",
            "Get:2 http://archive.ubuntu.com/ubuntu focal/main amd64 libfl2 amd64 2.6.4-6.2 [11.5 kB]\n",
            "Get:3 http://archive.ubuntu.com/ubuntu focal/main amd64 libfl-dev amd64 2.6.4-6.2 [6,316 B]\n",
            "Fetched 334 kB in 0s (906 kB/s)\n",
            "Selecting previously unselected package flex.\n",
            "(Reading database ... 123105 files and directories currently installed.)\n",
            "Preparing to unpack .../flex_2.6.4-6.2_amd64.deb ...\n",
            "Unpacking flex (2.6.4-6.2) ...\n",
            "Selecting previously unselected package libfl2:amd64.\n",
            "Preparing to unpack .../libfl2_2.6.4-6.2_amd64.deb ...\n",
            "Unpacking libfl2:amd64 (2.6.4-6.2) ...\n",
            "Selecting previously unselected package libfl-dev:amd64.\n",
            "Preparing to unpack .../libfl-dev_2.6.4-6.2_amd64.deb ...\n",
            "Unpacking libfl-dev:amd64 (2.6.4-6.2) ...\n",
            "Setting up flex (2.6.4-6.2) ...\n",
            "Setting up libfl2:amd64 (2.6.4-6.2) ...\n",
            "Setting up libfl-dev:amd64 (2.6.4-6.2) ...\n",
            "Processing triggers for man-db (2.9.1-1) ...\n",
            "Processing triggers for libc-bin (2.31-0ubuntu9.9) ...\n",
            "Reading package lists... Done\n",
            "Building dependency tree       \n",
            "Reading state information... Done\n",
            "Suggested packages:\n",
            "  bison-doc\n",
            "The following NEW packages will be installed:\n",
            "  bison\n",
            "0 upgraded, 1 newly installed, 0 to remove and 15 not upgraded.\n",
            "Need to get 657 kB of archives.\n",
            "After this operation, 2,028 kB of additional disk space will be used.\n",
            "Get:1 http://archive.ubuntu.com/ubuntu focal/main amd64 bison amd64 2:3.5.1+dfsg-1 [657 kB]\n",
            "Fetched 657 kB in 0s (2,023 kB/s)\n",
            "Selecting previously unselected package bison.\n",
            "(Reading database ... 123195 files and directories currently installed.)\n",
            "Preparing to unpack .../bison_2%3a3.5.1+dfsg-1_amd64.deb ...\n",
            "Unpacking bison (2:3.5.1+dfsg-1) ...\n",
            "Setting up bison (2:3.5.1+dfsg-1) ...\n",
            "update-alternatives: using /usr/bin/bison.yacc to provide /usr/bin/yacc (yacc) in auto mode\n",
            "Processing triggers for man-db (2.9.1-1) ...\n"
          ]
        }
      ],
      "source": [
        "!apt-get install flex\n",
        "!apt-get install bison"
      ]
    },
    {
      "attachments": {},
      "cell_type": "markdown",
      "metadata": {},
      "source": [
        "## Librerias"
      ]
    },
    {
      "cell_type": "code",
      "execution_count": 3,
      "metadata": {
        "colab": {
          "base_uri": "https://localhost:8080/"
        },
        "id": "GMqoASFglsmn",
        "outputId": "a5009eaf-13e3-4249-bf98-7d0411926f6f"
      },
      "outputs": [
        {
          "name": "stdout",
          "output_type": "stream",
          "text": [
            "Mounted at /content/drive\n"
          ]
        }
      ],
      "source": [
        "from google.colab import drive\n",
        "drive.mount('/content/drive')"
      ]
    },
    {
      "attachments": {},
      "cell_type": "markdown",
      "metadata": {},
      "source": [
        "### LEX"
      ]
    },
    {
      "cell_type": "code",
      "execution_count": 4,
      "metadata": {
        "colab": {
          "base_uri": "https://localhost:8080/"
        },
        "id": "3MQhofmlvjJc",
        "outputId": "f29daefc-208c-415f-c1af-46905a559c9e"
      },
      "outputs": [
        {
          "name": "stdout",
          "output_type": "stream",
          "text": [
            "Overwriting ejercicio1.l\n"
          ]
        }
      ],
      "source": [
        "%%writefile ejercicio1.l\n",
        "%{\n",
        "  #include<stdio.h>\n",
        "  #include \"y.tab.h\"\n",
        "%}\n",
        "\n",
        "%option noyywrap\n",
        "\n",
        "%%\n",
        "if                           {return(IF);}\n",
        "else                         {return(ELSE);}\n",
        "[A-Za-z]([A-Aa-z]|[0-9])*    {return(IDENTI);}\n",
        "[0-9]+                       {return(NUMERO);}\n",
        "\"==\"                         {return(EQUALS);}\n",
        "\"!=\"                         {return(NOTEQUALS);}\n",
        "\"<\"                          {return(LT);}\n",
        "\">\"                          {return(GT);}\n",
        "\"<=\"                         {return(LEQ);}\n",
        "\">=\"                         {return(GEQ);}\n",
        "\"NOT\"                        {return(NOT);}\n",
        "\"AND\"                        {return(AND);}\n",
        "\"OR\"                         {return(OR);}\n",
        "[\\t]                         {;}\n",
        "\\n                           {yyterminate();}\n",
        ".                            { return yytext[0];}\n",
        "%%"
      ]
    },
    {
      "attachments": {},
      "cell_type": "markdown",
      "metadata": {},
      "source": [
        "### YACC"
      ]
    },
    {
      "cell_type": "code",
      "execution_count": 53,
      "metadata": {
        "colab": {
          "base_uri": "https://localhost:8080/"
        },
        "id": "N2IP10B7wNp6",
        "outputId": "8d24e876-6c06-4819-b451-388c2b8bb86b"
      },
      "outputs": [
        {
          "name": "stdout",
          "output_type": "stream",
          "text": [
            "Overwriting ejercicio1.y\n"
          ]
        }
      ],
      "source": [
        "%%writefile ejercicio1.y\n",
        "%{\n",
        "\n",
        "int yylex(void);\n",
        "FILE *yyin;\n",
        "\n",
        "\n",
        "char pila[100][10];\n",
        "int top=0;\n",
        "char temp[3]=\"t0\";\n",
        "char labels[3]=\"L0\";\n",
        "\n",
        "void yyerror (char const *s)\n",
        "{\n",
        "  fprintf (stderr, \"%s\\n\", s);\n",
        "}\n",
        "\n",
        "\n",
        "void push()\n",
        "{\n",
        "  strcpy(pila[++top],yytext);\n",
        "}\n",
        "\n",
        "\n",
        "void generate_code()\n",
        "{\n",
        "  printf(\"%s = %s %s %s \\n\", temp, pila[top-2],pila[top-1],pila[top]);\n",
        "  top-=2;\n",
        "  strcpy(pila[top],temp);\n",
        "  temp[1]++;\n",
        "}\n",
        "\n",
        "void generate_assign()\n",
        "{\n",
        "  printf(\"%s = %s\\n\",pila[top-2],pila[top]);\n",
        "  top-=2;\n",
        "}\n",
        "\n",
        "\n",
        "void generate_boolean()\n",
        "{\n",
        "  printf(\"%s = ( %s %s %s ) \\n\", temp, pila[top-2],pila[top-1],pila[top]);\n",
        "  top-=2;\n",
        "  strcpy(pila[top],temp);\n",
        "  temp[1]++;\n",
        "}\n",
        "\n",
        "void codegen_not()\n",
        "{\n",
        "  printf(\"%s = not %s\\n\",temp,pila[top]);\n",
        "  top-=2;\n",
        "  strcpy(pila[top],temp);\n",
        "  temp[1]++;\n",
        "}\n",
        "\n",
        "\n",
        "void L()\n",
        "{\n",
        "  labels[1]--;\n",
        "  printf(\"%s\\n\",labels);\n",
        "}\n",
        "\n",
        "\n",
        "void Lcond()\n",
        "{\n",
        "  printf(\"%s = not %s \\n\",temp,pila[top]);\n",
        "  printf(\"if %s goto %s\\n\",temp,labels);\n",
        "  temp[1]++;\n",
        "\n",
        "}\n",
        "\n",
        "void Lend()\n",
        "{\n",
        "  labels[1]++;\n",
        "  printf(\"goto %s\\n\",labels);\n",
        "}\n",
        "\n",
        "void Label()\n",
        "{\n",
        "  printf(\"%s\\n\",labels);\n",
        "}\n",
        "\n",
        "void Label_next()\n",
        "{\n",
        "  labels[1]++;\n",
        "  printf(\"%s\\n\",labels);\n",
        "}\n",
        "\n",
        "\n",
        "void End()\n",
        "{\n",
        "  printf(\"End\\n\");\n",
        "}\n",
        "\n",
        "%}\n",
        "\n",
        "%token IDENTI NUMERO IF ELSE TRUE FALSE AND OR\n",
        "%token EQUALS NOTEQUALS LT GT LEQ GEQ NOT\n",
        "%right '='\n",
        "%nonassoc OR\n",
        "%nonassoc AND\n",
        "%nonassoc EQUALS NOTEQUALS LT GT LEQ GEQ\n",
        "%nonassoc NOT\n",
        "%left '+' '-'\n",
        "%left '*' '/'\n",
        "\n",
        "\n",
        "%%\n",
        "\n",
        "S : IF_ANIDADO {End();}\n",
        ";\n",
        "\n",
        "IF_SENT : IF '(' B ')' {Lcond();} '{' SENT '}'\n",
        ";\n",
        "\n",
        "IF_ANIDADO : IF_SENT {Label();} | IF_SENT {Lend();}  ELSE {L();} '{' SENT '}' {Label_next();}\n",
        ";\n",
        "\n",
        "SENT : IF_ANIDADO | SENT E ';' | E ';'\n",
        ";\n",
        "\n",
        "B : V EQUALS {push();} E {generate_boolean();}\n",
        "  | V NOTEQUALS {push();} E {generate_boolean();}\n",
        "  | V LT {push();} E {generate_boolean();}\n",
        "  | V GT {push();} E {generate_boolean();}\n",
        "  | V LEQ {push();} E {generate_boolean();}\n",
        "  | V GEQ {push();} E {generate_boolean();}\n",
        "  | '(' B ')'\n",
        "  | NOT {push();} B {codegen_not();}\n",
        "  | B AND {push();} B {generate_boolean();}\n",
        "  | B OR {push();} B {generate_boolean();}\n",
        ";\n",
        "\n",
        "E : V '='   {push();}  E {generate_assign();}\n",
        "  | E '+'   {push();}  E {generate_code();}\n",
        "  | E '-'   {push();}  E {generate_code();}\n",
        "  | E '*'   {push();}  E {generate_code();}\n",
        "  | E '/'   {push();}  E {generate_code();}\n",
        "  | '(' E ')'\n",
        "  | V\n",
        "  | NUMERO {push();}\n",
        ";\n",
        "\n",
        "V : IDENTI {push();}\n",
        ";\n",
        "%%\n",
        "\n",
        "\n",
        "void main()\n",
        "{\n",
        "  printf(\"Ingresar expresion:\");\n",
        "  yyparse();\n",
        "}"
      ]
    },
    {
      "attachments": {},
      "cell_type": "markdown",
      "metadata": {},
      "source": [
        "## TESTING"
      ]
    },
    {
      "cell_type": "code",
      "execution_count": 57,
      "metadata": {
        "colab": {
          "base_uri": "https://localhost:8080/"
        },
        "id": "WVzZJKun1WNw",
        "outputId": "86e18897-9aaf-46bd-b5b5-f85c40e43f1d"
      },
      "outputs": [
        {
          "name": "stdout",
          "output_type": "stream",
          "text": [
            "Ingrese su expresion:if(x!=2){if(x>4){y=3;}}else{w=3;}\n",
            "t0 = ( x != 2 ) \n",
            "t1 = not t0 \n",
            "if t1 goto L0\n",
            "t2 = ( x > 4 ) \n",
            "t3 = not t2 \n",
            "if t3 goto L0\n",
            "y = 3\n",
            "L0\n",
            "goto L1\n",
            "L0\n",
            "w = 3\n",
            "L1\n",
            "End\n"
          ]
        }
      ],
      "source": [
        "!flex ejercicio1.l\n",
        "!yacc ejercicio1.y -d\n",
        "!gcc y.tab.c -ll\n",
        "!./a.out\n",
        "# Probar con esto o parecido\n",
        "# if(x<5){z=1;}else{t=4;}"
      ]
    }
  ],
  "metadata": {
    "colab": {
      "provenance": []
    },
    "kernelspec": {
      "display_name": "Python 3",
      "name": "python3"
    },
    "language_info": {
      "name": "python"
    }
  },
  "nbformat": 4,
  "nbformat_minor": 0
}
